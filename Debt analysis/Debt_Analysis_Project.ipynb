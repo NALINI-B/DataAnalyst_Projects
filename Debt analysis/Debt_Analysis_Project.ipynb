{
 "cells": [
  {
   "cell_type": "markdown",
   "metadata": {},
   "source": [
    "# Global Country-wise Debt Analysis for the Past 5 Years\n",
    "\n",
    "* 1: Define Scope\n",
    "* Questions to address:\n",
    " - What are the global debt trends in the past 5 years?\n",
    " - How does the USA compare to other countries?\n",
    " - What potential risks and correlations exist between countries?\n"
   ]
  },
  {
   "cell_type": "markdown",
   "metadata": {},
   "source": [
    "\n",
    "* 2. Import Required Libraries"
   ]
  },
  {
   "cell_type": "code",
   "execution_count": 130,
   "metadata": {},
   "outputs": [],
   "source": [
    "\n",
    "import pandas as pd\n",
    "import numpy as np\n",
    "import matplotlib.pyplot as plt\n",
    "import seaborn as sns\n",
    "import networkx as nx\n",
    "from sklearn.preprocessing import MinMaxScaler\n"
   ]
  },
  {
   "cell_type": "code",
   "execution_count": 131,
   "metadata": {},
   "outputs": [],
   "source": [
    "\n",
    "\n",
    "# 3: Data Collection\n",
    "# Load the provided files (World Bank and IMF datasets)\n",
    "world_bank_data = pd.read_csv('E:\\DataAnalyst_Projects\\Debt analysis\\world_bank.csv')\n",
    "weo_data = pd.read_csv('E:\\DataAnalyst_Projects\\Debt analysis\\cleaned_weo_data.csv')\n"
   ]
  },
  {
   "cell_type": "code",
   "execution_count": null,
   "metadata": {},
   "outputs": [],
   "source": [
    "\n",
    "# Inspect column names to verify correct formatting\n",
    "print(\"World Bank Columns:\", world_bank_data.columns)\n",
    "print(\"IMF Columns:\", weo_data.columns)"
   ]
  },
  {
   "cell_type": "code",
   "execution_count": null,
   "metadata": {},
   "outputs": [],
   "source": [
    "\n",
    "# Display initial information about datasets\n",
    "print(\"World Bank Data:\")\n",
    "print(world_bank_data.info())\n",
    "print(\"\\n IMF Data:\")\n",
    "print(weo_data.info())"
   ]
  },
  {
   "cell_type": "code",
   "execution_count": 134,
   "metadata": {},
   "outputs": [],
   "source": [
    "\n",
    "# Step 4: Data Processing\n",
    "# Harmonizing columns and identifying overlapping fields\n",
    "world_bank_data.columns = world_bank_data.columns.str.lower().str.replace(' ', '_')\n",
    "weo_data.columns = weo_data.columns.str.lower().str.replace(' ', '_')\n"
   ]
  },
  {
   "cell_type": "code",
   "execution_count": null,
   "metadata": {},
   "outputs": [],
   "source": [
    "# Inspect column names to verify correct formatting\n",
    "print(\"World Bank Columns:\", world_bank_data.columns)\n",
    "print(\"IMF Columns:\", weo_data.columns)\n"
   ]
  },
  {
   "cell_type": "code",
   "execution_count": 136,
   "metadata": {},
   "outputs": [],
   "source": [
    "# Reshape World Bank data if necessary\n",
    "if 'year' not in world_bank_data.columns:\n",
    "    years = [str(year) for year in range(1960, 2024 + 1)]  # List of years as strings\n",
    "    valid_years = [year for year in years if year in world_bank_data.columns]\n",
    "    world_bank_data = world_bank_data.melt(\n",
    "        id_vars=['country', 'country_code', 'indicator_name', 'indicator_code', 'region', 'incomegroup'],\n",
    "        value_vars=valid_years,\n",
    "        var_name='year',\n",
    "        value_name='debt'\n",
    "    )\n",
    "    world_bank_data['year'] = world_bank_data['year'].astype(int)\n",
    "\n",
    "# Reshape IMF data if necessary\n",
    "if 'year' not in weo_data.columns:\n",
    "    years = [str(year) for year in range(2002, 2029 + 1)]  # List of years as strings\n",
    "    valid_years = [year for year in years if year in weo_data.columns]\n",
    "    weo_data = weo_data.melt(\n",
    "        id_vars=['country', 'subject_descriptor'],\n",
    "        value_vars=valid_years,\n",
    "        var_name='year',\n",
    "        value_name='debt'\n",
    "    )\n",
    "    weo_data['year'] = weo_data['year'].astype(int)\n"
   ]
  },
  {
   "cell_type": "code",
   "execution_count": null,
   "metadata": {},
   "outputs": [],
   "source": [
    "print(\"World Bank Columns:\", world_bank_data.columns)\n",
    "print(\"IMF Columns:\", weo_data.columns)"
   ]
  },
  {
   "cell_type": "code",
   "execution_count": null,
   "metadata": {},
   "outputs": [],
   "source": [
    "# Verify if the 'year' column exists after reshaping\n",
    "if 'year' not in world_bank_data.columns:\n",
    "    raise KeyError(\"The 'year' column is still missing in the World Bank dataset after processing.\")\n",
    "if 'year' not in weo_data.columns:\n",
    "    raise KeyError(\"The 'year' column is still missing in the IMF dataset after processing.\")\n",
    "\n",
    "# Filter data for the last 5 years\n",
    "years_of_interest = [2020, 2021, 2022, 2023, 2024]\n",
    "world_bank_filtered = world_bank_data[world_bank_data['year'].isin(years_of_interest)]\n",
    "weo_filtered = weo_data[weo_data['year'].isin(years_of_interest)]"
   ]
  },
  {
   "cell_type": "code",
   "execution_count": 139,
   "metadata": {},
   "outputs": [],
   "source": [
    "\n",
    "# Combine data on relevant keys (country, year, etc.)\n",
    "combined_data = pd.merge(\n",
    "    world_bank_filtered, \n",
    "    weo_filtered, \n",
    "    how='inner', \n",
    "    on=['country', 'year']\n",
    ")"
   ]
  },
  {
   "cell_type": "code",
   "execution_count": null,
   "metadata": {},
   "outputs": [],
   "source": [
    "# Exploratory Data Analysis (EDA)\n",
    "print(\"EDA:\")\n",
    "print(combined_data.describe())"
   ]
  },
  {
   "cell_type": "code",
   "execution_count": null,
   "metadata": {},
   "outputs": [],
   "source": [
    "\n",
    "# Identify missing values\n",
    "missing_data = combined_data.isnull().sum()\n",
    "print(\"Missing data:\")\n",
    "print(missing_data)\n",
    "\n"
   ]
  },
  {
   "cell_type": "code",
   "execution_count": null,
   "metadata": {},
   "outputs": [],
   "source": [
    "print(world_bank_data.isnull().sum())\n",
    "\n"
   ]
  },
  {
   "cell_type": "code",
   "execution_count": null,
   "metadata": {},
   "outputs": [],
   "source": [
    "print(weo_data.isnull().sum())"
   ]
  },
  {
   "cell_type": "code",
   "execution_count": 144,
   "metadata": {},
   "outputs": [],
   "source": [
    "world_bank_data['debt'] = world_bank_data.groupby('country')['debt'].transform(lambda x: x.fillna(x.mean()))\n"
   ]
  },
  {
   "cell_type": "code",
   "execution_count": null,
   "metadata": {},
   "outputs": [],
   "source": [
    "world_bank_data['debt'].fillna(world_bank_data['debt'].mean(), inplace=True)\n"
   ]
  },
  {
   "cell_type": "code",
   "execution_count": 146,
   "metadata": {},
   "outputs": [],
   "source": [
    "world_bank_data.dropna(subset=['region', 'incomegroup'], inplace=True)\n"
   ]
  },
  {
   "cell_type": "code",
   "execution_count": null,
   "metadata": {},
   "outputs": [],
   "source": [
    "print(world_bank_data.isnull().sum())\n"
   ]
  },
  {
   "cell_type": "code",
   "execution_count": null,
   "metadata": {},
   "outputs": [],
   "source": [
    "print(combined_data.columns)\n"
   ]
  },
  {
   "cell_type": "code",
   "execution_count": 149,
   "metadata": {},
   "outputs": [],
   "source": [
    "combined_data.columns = combined_data.columns.str.strip()\n"
   ]
  },
  {
   "cell_type": "code",
   "execution_count": null,
   "metadata": {},
   "outputs": [],
   "source": [
    "print(combined_data[['debt_x', 'debt_y']].head())\n"
   ]
  },
  {
   "cell_type": "code",
   "execution_count": null,
   "metadata": {},
   "outputs": [],
   "source": [
    "print(combined_data.groupby('country')['debt_x'].mean().sort_values(ascending=False).head(5))\n"
   ]
  },
  {
   "cell_type": "code",
   "execution_count": 152,
   "metadata": {},
   "outputs": [],
   "source": [
    "combined_data['debt_x'] = pd.to_numeric(combined_data['debt_x'], errors='coerce')\n",
    "combined_data['debt_y'] = pd.to_numeric(combined_data['debt_y'], errors='coerce')\n"
   ]
  },
  {
   "cell_type": "code",
   "execution_count": null,
   "metadata": {},
   "outputs": [],
   "source": [
    "combined_data['debt_x'].fillna(0, inplace=True)\n",
    "combined_data['debt_y'].fillna(0, inplace=True)\n"
   ]
  },
  {
   "cell_type": "code",
   "execution_count": null,
   "metadata": {},
   "outputs": [],
   "source": [
    "print(combined_data.groupby('country')['debt_x'].mean().sort_values(ascending=False).head(5))\n"
   ]
  },
  {
   "cell_type": "code",
   "execution_count": null,
   "metadata": {},
   "outputs": [],
   "source": [
    "combined_data['debt'] = combined_data['debt_x'].fillna(combined_data['debt_y'])\n",
    "print(combined_data.groupby('country')['debt'].mean().sort_values(ascending=False).head(5))\n"
   ]
  },
  {
   "cell_type": "code",
   "execution_count": null,
   "metadata": {},
   "outputs": [],
   "source": [
    "# Step 6: Analysis\n",
    "# (a) Descriptive Analysis\n",
    "print(\"Top 5 countries with the highest average debt:\")\n",
    "print(combined_data.groupby('country')['debt'].mean().sort_values(ascending=False).head(5))"
   ]
  },
  {
   "cell_type": "code",
   "execution_count": null,
   "metadata": {},
   "outputs": [],
   "source": [
    "# (c) USA-Specific Analysis\n",
    "usa_data = combined_data[combined_data['country'] == 'United States']\n",
    "print(\"USA Debt Data (Last 5 Years):\")\n",
    "print(usa_data)\n",
    "\n",
    "# Compare USA's average debt to global averages\n",
    "global_avg_debt = combined_data.groupby('year')['debt'].mean()\n",
    "usa_avg_debt = usa_data.groupby('year')['debt'].mean()\n",
    "\n",
    "comparison = pd.DataFrame({\n",
    "    'Year': global_avg_debt.index,\n",
    "    'Global Average Debt': global_avg_debt.values,\n",
    "    'USA Average Debt': usa_avg_debt.values\n",
    "})\n",
    "print(\"USA vs Global Average Debt Comparison:\")\n",
    "print(comparison)\n",
    "\n",
    "# Visualization: USA vs Global Average Debt\n",
    "plt.figure(figsize=(10, 6))\n",
    "plt.plot(comparison['Year'], comparison['Global Average Debt'], label='Global Average Debt', marker='o')\n",
    "plt.plot(comparison['Year'], comparison['USA Average Debt'], label='USA Average Debt', marker='o', linestyle='--')\n",
    "plt.title('USA vs Global Average Debt (Last 5 Years)')\n",
    "plt.xlabel('Year')\n",
    "plt.ylabel('Debt')\n",
    "plt.legend()\n",
    "plt.grid(True)\n",
    "plt.show()\n"
   ]
  },
  {
   "cell_type": "code",
   "execution_count": 158,
   "metadata": {},
   "outputs": [],
   "source": [
    "\n",
    "# (b) Network Analysis - Correlation between countries\n",
    "corr_matrix = combined_data.pivot_table(index='year', columns='country', values='debt').corr()\n",
    "G = nx.Graph()\n",
    "for i in corr_matrix.index:\n",
    "    for j in corr_matrix.columns:\n",
    "        if i != j and corr_matrix.loc[i, j] > 0.7:  # Threshold for high correlation\n",
    "            G.add_edge(i, j, weight=corr_matrix.loc[i, j])"
   ]
  },
  {
   "cell_type": "markdown",
   "metadata": {},
   "source": [
    "* Visualizing the network\n"
   ]
  },
  {
   "cell_type": "code",
   "execution_count": null,
   "metadata": {},
   "outputs": [],
   "source": [
    "import matplotlib.pyplot as plt\n",
    "import networkx as nx\n",
    "\n",
    "plt.figure(figsize=(20, 16))  # Increase figure size for better visualization\n",
    "\n",
    "# Increase k for more space between nodes\n",
    "pos = nx.spring_layout(G, k=0.8)  \n",
    "\n",
    "# Draw nodes\n",
    "nx.draw_networkx_nodes(G, pos, node_size=1300, node_color='skyblue', alpha=0.85)\n",
    "\n",
    "# Draw edges\n",
    "nx.draw_networkx_edges(G, pos, width=1.5, alpha=0.5)\n",
    "\n",
    "# Draw labels with bounding boxes and rotation\n",
    "labels = nx.draw_networkx_labels(G, pos, font_size=14, font_weight='bold')\n",
    "\n",
    "for _, label in labels.items():\n",
    "    label.set_rotation(30)  # Rotate labels\n",
    "    label.set_bbox(dict(facecolor='white', edgecolor='none', boxstyle='round,pad=0.3'))\n",
    "\n",
    "plt.title(\"Network Analysis of Countries Based on Debt Correlation\", fontsize=22)\n",
    "plt.tight_layout()\n",
    "plt.show()\n"
   ]
  },
  {
   "cell_type": "code",
   "execution_count": null,
   "metadata": {},
   "outputs": [],
   "source": [
    "\n",
    "import matplotlib.pyplot as plt\n",
    "import networkx as nx\n",
    "import pandas as pd\n",
    "import numpy as np\n",
    "from sklearn.preprocessing import MinMaxScaler\n",
    "\n",
    "# Example: Create a sample DataFrame for countries and their debt (replace this with your actual data)\n",
    "data = {'country': ['United States', 'China', 'Brazil', 'Germany', 'India'],\n",
    "        'debt': [30, 40, 15, 35, 25]}  # Example debt data\n",
    "\n",
    "combined_data = pd.DataFrame(data)\n",
    "\n",
    "# Compute the correlation matrix (replace with your actual data correlation)\n",
    "# For demonstration, we use a synthetic correlation matrix between countries\n",
    "corr_matrix = pd.DataFrame(np.random.rand(5, 5), columns=combined_data['country'], index=combined_data['country'])\n",
    "\n",
    "# Set the correlation threshold (lowering this will identify more relationships)\n",
    "threshold = 0.5  # Adjust this value to find more relationships\n",
    "\n",
    "# Create a new graph\n",
    "G = nx.Graph()\n",
    "\n",
    "# Add edges based on the correlation matrix, only if correlation is above the threshold\n",
    "for i in corr_matrix.index:\n",
    "    for j in corr_matrix.columns:\n",
    "        if i != j and corr_matrix.loc[i, j] > threshold:  # Only add edge if correlation > threshold\n",
    "            G.add_edge(i, j, weight=corr_matrix.loc[i, j])\n",
    "\n",
    "# Remove isolated nodes (nodes with no edges)\n",
    "isolated = list(nx.isolates(G))\n",
    "G.remove_nodes_from(isolated)\n",
    "\n",
    "# Check if there are any nodes left after filtering\n",
    "if len(G.nodes) == 0:\n",
    "    print(\"No edges found above the threshold. Try lowering it further.\")\n",
    "else:\n",
    "    # Node size based on some attribute (e.g., mean debt for each country)\n",
    "    node_size = combined_data.groupby('country')['debt'].mean()\n",
    "    node_size = MinMaxScaler(feature_range=(300, 1000)).fit_transform(node_size.values.reshape(-1, 1)).flatten()\n",
    "\n",
    "    # Color map adjustment\n",
    "    node_color = ['red' if node == 'United States' else\n",
    "                  'orange' if node == 'China' else\n",
    "                  'green' if node == 'Brazil' else\n",
    "                  'skyblue'\n",
    "                  for node in G.nodes]\n",
    "\n",
    "    # Visualization\n",
    "    plt.figure(figsize=(20, 16))  # Increase figure size for better visualization\n",
    "    pos = nx.spring_layout(G, k=0.8, seed=42)  # Set positions using spring layout (k controls spacing)\n",
    "\n",
    "    # Draw nodes with customized sizes and colors\n",
    "    nx.draw_networkx_nodes(G, pos, node_size=node_size, node_color=node_color, alpha=0.85)\n",
    "\n",
    "    # Draw edges with customized width and transparency\n",
    "    nx.draw_networkx_edges(G, pos, width=1.5, alpha=0.5)\n",
    "\n",
    "    # Draw labels with customized font size and weight\n",
    "    labels = nx.draw_networkx_labels(G, pos, font_size=14, font_weight='bold')\n",
    "\n",
    "    # Adjust label appearance\n",
    "    for _, label in labels.items():\n",
    "        label.set_rotation(30)  # Rotate labels for better visibility\n",
    "        label.set_bbox(dict(facecolor='white', edgecolor='none', boxstyle='round,pad=0.3'))  # Add background box for labels\n",
    "\n",
    "    # Title and display\n",
    "    plt.title(f\"Network Analysis of Countries Based on Debt Correlation (Threshold: {threshold})\", fontsize=22)\n",
    "    plt.tight_layout()\n",
    "    plt.show()\n",
    "\n"
   ]
  },
  {
   "cell_type": "code",
   "execution_count": 161,
   "metadata": {},
   "outputs": [],
   "source": [
    "# Step 7: Visualization - PowerBI Dashboard (Guidance for export)\n",
    "# Save combined data for PowerBI\n",
    "combined_data.to_csv('debt_analysis_data.csv', index=False)\n",
    "\n",
    "# Recommended Visuals for PowerBI:\n",
    "# - Line chart: Global debt trends\n",
    "# - Bar chart: Top 5 countries by debt per year\n",
    "# - Heatmap: Correlation matrix of debt levels\n",
    "# - Network diagram: Relationship of debt between countries\n",
    "\n",
    "# Step 8: Documentation\n",
    "# The final report and detailed insights should be documented in markdown or PDF format.\n",
    "# Use visuals, descriptive analysis, and network analysis findings to provide actionable insights.\n"
   ]
  }
 ],
 "metadata": {
  "kernelspec": {
   "display_name": "Python 3",
   "language": "python",
   "name": "python3"
  },
  "language_info": {
   "codemirror_mode": {
    "name": "ipython",
    "version": 3
   },
   "file_extension": ".py",
   "mimetype": "text/x-python",
   "name": "python",
   "nbconvert_exporter": "python",
   "pygments_lexer": "ipython3",
   "version": "3.11.5"
  }
 },
 "nbformat": 4,
 "nbformat_minor": 2
}
