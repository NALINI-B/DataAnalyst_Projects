{
 "cells": [
  {
   "cell_type": "code",
   "execution_count": 1,
   "metadata": {
    "id": "pIANPEdB5woG"
   },
   "outputs": [],
   "source": [
    "import pandas as pd\n",
    "import matplotlib.pyplot as plt\n",
    "import seaborn as sns\n"
   ]
  },
  {
   "cell_type": "code",
   "execution_count": 2,
   "metadata": {
    "id": "QDaj1b925wqw"
   },
   "outputs": [],
   "source": [
    "df = pd.read_csv('E:/project/amazon.csv')"
   ]
  },
  {
   "cell_type": "code",
   "execution_count": null,
   "metadata": {
    "colab": {
     "base_uri": "https://localhost:8080/"
    },
    "id": "TZgV-2U55wtR",
    "outputId": "58d2967c-55b3-46b2-df20-2d39182ed8f2"
   },
   "outputs": [],
   "source": [
    "print(df.head())"
   ]
  },
  {
   "cell_type": "markdown",
   "metadata": {
    "id": "HQPcpKEv_pBj"
   },
   "source": [
    "# Data Cleaning and Preprocessing\n"
   ]
  },
  {
   "cell_type": "code",
   "execution_count": null,
   "metadata": {
    "colab": {
     "base_uri": "https://localhost:8080/"
    },
    "id": "RPIvTTjD_xqP",
    "outputId": "f403b247-b169-462a-c0d0-4cf42b585434"
   },
   "outputs": [],
   "source": [
    "print(df.isnull().sum())"
   ]
  },
  {
   "cell_type": "code",
   "execution_count": null,
   "metadata": {
    "colab": {
     "base_uri": "https://localhost:8080/"
    },
    "id": "P6wXxtlg5wv7",
    "outputId": "1629242f-d3e5-4363-e650-c4729b60e2d0"
   },
   "outputs": [],
   "source": [
    "\n",
    "print(\"Column names:\", df.columns.tolist())\n",
    "print(\"Data types:\\n\", df.dtypes)"
   ]
  },
  {
   "cell_type": "code",
   "execution_count": null,
   "metadata": {
    "colab": {
     "base_uri": "https://localhost:8080/"
    },
    "id": "QrbdovoTAOtw",
    "outputId": "a26438fc-e1b4-46c9-901a-8fe555b4f99a"
   },
   "outputs": [],
   "source": [
    "df.fillna(method='ffill',inplace=True)"
   ]
  },
  {
   "cell_type": "code",
   "execution_count": 7,
   "metadata": {
    "id": "n47hD8aZ6S_t"
   },
   "outputs": [],
   "source": [
    "# Drop rows with NaN ratings\n",
    "df.dropna(subset=['rating', 'product_id', 'user_id'], inplace=True)  # Adjust as necessary"
   ]
  },
  {
   "cell_type": "code",
   "execution_count": null,
   "metadata": {
    "colab": {
     "base_uri": "https://localhost:8080/"
    },
    "id": "_D63NYR86qNc",
    "outputId": "38f9c9e3-9eff-4ea8-8c47-4cdf4e3c9f27"
   },
   "outputs": [],
   "source": [
    "# Basic statistics of the dataset\n",
    "print(\"Basic statistics:\\n\", df.describe())\n",
    "\n"
   ]
  },
  {
   "cell_type": "code",
   "execution_count": null,
   "metadata": {
    "id": "nN-9aBADAblv"
   },
   "outputs": [],
   "source": [
    "#Feature Engineering\n",
    "if 'date' in df.columns:\n",
    "    df['date'] = pd.to_datetime(df['date'])\n",
    "    df['month'] = df['date'].dt.month\n",
    "    df['year'] = df['date'].dt.year"
   ]
  },
  {
   "cell_type": "markdown",
   "metadata": {
    "id": "ovojSerx61LC"
   },
   "source": [
    "# 3.Exploratory Data Analysis\n",
    "\n"
   ]
  },
  {
   "cell_type": "code",
   "execution_count": null,
   "metadata": {
    "colab": {
     "base_uri": "https://localhost:8080/",
     "height": 472
    },
    "id": "BOlYkLMTA_e-",
    "outputId": "7d3da2a9-df9d-4c1c-9f8c-446c12ca4070"
   },
   "outputs": [],
   "source": [
    "import matplotlib.pyplot as plt\n",
    "import seaborn as sns\n",
    "#Top 5 popular products\n",
    "top_products = df['product_id'].value_counts().head(5)\n",
    "sns.barplot(x=top_products.index,y=top_products.values)\n",
    "plt.title('Top 5 Most Purchased Products')\n",
    "plt.xlabel('Product ID')\n",
    "plt.ylabel('Purchase Count')\n",
    "plt.show()\n"
   ]
  },
  {
   "cell_type": "code",
   "execution_count": null,
   "metadata": {
    "id": "otEp8fKr7F1Y"
   },
   "outputs": [],
   "source": [
    "\n",
    "# Count of ratings per product\n",
    "ratings_per_product = df.groupby('product_id')['rating'].count().reset_index()\n",
    "ratings_per_product.columns = ['product_id', 'rating_count']\n",
    "\n",
    "# Top 10 products by rating count\n",
    "top_products = ratings_per_product.sort_values(by='rating_count', ascending=False).head(10)\n"
   ]
  },
  {
   "cell_type": "code",
   "execution_count": null,
   "metadata": {
    "colab": {
     "base_uri": "https://localhost:8080/",
     "height": 539
    },
    "id": "_nixnJ3s7cye",
    "outputId": "87b91a13-a8c3-47fd-ae30-606f88fbbc91"
   },
   "outputs": [],
   "source": [
    "\n",
    "# Plotting the top products by rating count\n",
    "plt.figure(figsize=(12, 6))\n",
    "sns.barplot(x='product_id', y='rating_count', data=top_products)\n",
    "plt.title('Top 10 Amazon Products by Rating Count')\n",
    "plt.xlabel('Product ID')\n",
    "plt.ylabel('Number of Ratings')\n",
    "plt.xticks(rotation=45)\n",
    "plt.show()"
   ]
  },
  {
   "cell_type": "code",
   "execution_count": null,
   "metadata": {
    "colab": {
     "base_uri": "https://localhost:8080/"
    },
    "id": "SyjBoKnG7tsn",
    "outputId": "1cd78eb7-b118-4852-8ff8-f67723cd99c2"
   },
   "outputs": [],
   "source": [
    "# Step 4: Visualization\n",
    "import pandas as pd\n",
    "\n",
    "# Load your DataFrame\n",
    "df = pd.read_csv('amazon.csv')  # Adjust the file name accordingly\n",
    "\n",
    "# Strip any leading or trailing spaces from column names\n",
    "df.columns = df.columns.str.strip()\n",
    "\n",
    "# Print columns for verification\n",
    "print(\"Columns in DataFrame:\", df.columns)"
   ]
  },
  {
   "cell_type": "code",
   "execution_count": 10,
   "metadata": {
    "id": "GqolJG1L71Yc"
   },
   "outputs": [],
   "source": [
    "\n",
    "# Convert relevant columns to numeric, forcing errors to NaN\n",
    "df['rating'] = pd.to_numeric(df['rating'], errors='coerce')\n",
    "df['rating_count'] = pd.to_numeric(df['rating_count'], errors='coerce')\n",
    "df['discounted_price'] = pd.to_numeric(df['discounted_price'].str.replace('[$,]', '', regex=True), errors='coerce')\n",
    "df['actual_price'] = pd.to_numeric(df['actual_price'].str.replace('[$,]', '', regex=True), errors='coerce')\n",
    "df['discount_percentage'] = pd.to_numeric(df['discount_percentage'].str.replace('%', ''), errors='coerce')\n"
   ]
  },
  {
   "cell_type": "code",
   "execution_count": null,
   "metadata": {
    "colab": {
     "base_uri": "https://localhost:8080/"
    },
    "id": "lSaOPgmZ75sH",
    "outputId": "fe74afe9-3704-4f5b-c485-935c9f6372b2"
   },
   "outputs": [],
   "source": [
    "\n",
    "# Drop rows with NaN values in the specified columns\n",
    "df.dropna(subset=['rating', 'product_id', 'user_id'], inplace=True)\n",
    "\n",
    "# Perform groupby and mean aggregation on the rating column\n",
    "average_ratings = df.groupby('product_id')['rating'].mean().reset_index()\n",
    "\n",
    "# Print the resulting DataFrame\n",
    "print(average_ratings)\n",
    "\n",
    "\n"
   ]
  },
  {
   "cell_type": "code",
   "execution_count": null,
   "metadata": {
    "colab": {
     "base_uri": "https://localhost:8080/",
     "height": 572
    },
    "id": "qP2dwNJt8EgC",
    "outputId": "1a433b1d-6e50-4ecf-edce-febb747e9975"
   },
   "outputs": [],
   "source": [
    "\n",
    "import matplotlib.pyplot as plt\n",
    "import seaborn as sns\n",
    "\n",
    "# Set the style\n",
    "sns.set(style='whitegrid')\n",
    "\n",
    "# Create a histogram of ratings\n",
    "plt.figure(figsize=(10, 6))\n",
    "sns.histplot(df['rating'], bins=10, kde=True)\n",
    "plt.title('Distribution of Product Ratings')\n",
    "plt.xlabel('Rating')\n",
    "plt.ylabel('Frequency')\n",
    "plt.show()"
   ]
  },
  {
   "cell_type": "markdown",
   "metadata": {
    "id": "Zar4dmed8N05"
   },
   "source": [
    "# Average Rating by Product Category\n"
   ]
  },
  {
   "cell_type": "code",
   "execution_count": 11,
   "metadata": {
    "id": "I4Dy_3w18WG5"
   },
   "outputs": [],
   "source": [
    "# Calculate average ratings by category\n",
    "average_ratings_by_category = df.groupby('category')['rating'].mean().reset_index()\n",
    "\n",
    "# Sort values by average rating\n",
    "average_ratings_by_category = average_ratings_by_category.sort_values(by='rating', ascending=False)\n",
    "\n",
    "# Create a bar plot\n",
    "# Limit to top 10 categories by average rating\n",
    "top_categories = average_ratings_by_category.head(10)"
   ]
  },
  {
   "cell_type": "markdown",
   "metadata": {
    "id": "At0jo9qL8lKI"
   },
   "source": []
  },
  {
   "cell_type": "code",
   "execution_count": null,
   "metadata": {
    "colab": {
     "base_uri": "https://localhost:8080/",
     "height": 419
    },
    "id": "GV_1LA_o89it",
    "outputId": "72731165-ce67-4f3f-d5e5-bd97e03b8ca0"
   },
   "outputs": [],
   "source": [
    "\n",
    "# Create a bar plot\n",
    "plt.figure(figsize=(12, 6))\n",
    "sns.barplot(data=top_categories, x='rating', y='category', palette='viridis')\n",
    "plt.title('Top 10 Average Ratings by Product Category')\n",
    "plt.xlabel('Average Rating')\n",
    "plt.ylabel('Product Category')\n",
    "plt.show()\n"
   ]
  },
  {
   "cell_type": "markdown",
   "metadata": {
    "id": "yLINQnrJ9EYc"
   },
   "source": [
    "# Top 10 Products by Rating\n"
   ]
  },
  {
   "cell_type": "code",
   "execution_count": null,
   "metadata": {
    "id": "LeMCehxv9C8w"
   },
   "outputs": [],
   "source": [
    "# Calculate average ratings by product\n",
    "top_rated_products = df.groupby('product_id')['rating'].mean().reset_index()\n",
    "top_rated_products = top_rated_products.sort_values(by='rating', ascending=False).head(10)\n"
   ]
  },
  {
   "cell_type": "code",
   "execution_count": null,
   "metadata": {
    "colab": {
     "base_uri": "https://localhost:8080/",
     "height": 634
    },
    "id": "6q3h3s-t9WO3",
    "outputId": "f94396f1-79f5-4b72-e4c9-7184eb770d9f"
   },
   "outputs": [],
   "source": [
    "\n",
    "# Create a horizontal bar plot\n",
    "plt.figure(figsize=(10, 6))\n",
    "sns.barplot(data=top_rated_products, x='rating', y='product_id', palette='mako')\n",
    "plt.title('Top 10 Products by Average Rating')\n",
    "plt.xlabel('Average Rating')\n",
    "plt.ylabel('Product ID')\n",
    "plt.show()"
   ]
  },
  {
   "cell_type": "markdown",
   "metadata": {
    "id": "wi5Oswrw9vjX"
   },
   "source": [
    "# Rating Count Distribution\n"
   ]
  },
  {
   "cell_type": "code",
   "execution_count": null,
   "metadata": {
    "colab": {
     "base_uri": "https://localhost:8080/",
     "height": 573
    },
    "id": "LqbiJUSQ92ez",
    "outputId": "0b9d8a5d-15ba-4089-ef70-0f38fa849dbe"
   },
   "outputs": [],
   "source": [
    "# Create a histogram of rating counts\n",
    "plt.figure(figsize=(10, 6))\n",
    "sns.histplot(df['rating_count'], bins=30, kde=True)\n",
    "plt.title('Distribution of Rating Counts')\n",
    "plt.xlabel('Number of Ratings')\n",
    "plt.ylabel('Frequency')\n",
    "plt.show()"
   ]
  },
  {
   "cell_type": "code",
   "execution_count": null,
   "metadata": {
    "colab": {
     "base_uri": "https://localhost:8080/"
    },
    "id": "QEXbMOqF99co",
    "outputId": "55488998-f420-4ef5-824b-61445f1d3633"
   },
   "outputs": [],
   "source": [
    "# Exporting cleaned data to Excel for reporting\n",
    "df.to_excel('cleaned_amazon_data.xlsx', index=False)\n",
    "print(\"Cleaned Amazon data exported to 'cleaned_amazon_data.xlsx'\")\n"
   ]
  },
  {
   "cell_type": "markdown",
   "metadata": {
    "id": "4n2W8TaMyVhh"
   },
   "source": [
    "# Model Building\n"
   ]
  },
  {
   "cell_type": "markdown",
   "metadata": {
    "id": "1MzhVzmHyfjY"
   },
   "source": [
    "# Collaborative Filtering(using Surprise)"
   ]
  },
  {
   "cell_type": "code",
   "execution_count": null,
   "metadata": {
    "colab": {
     "base_uri": "https://localhost:8080/"
    },
    "id": "E7HCl0MNy5Hh",
    "outputId": "3d2b65d4-b553-44fb-8cd2-349315e21e96"
   },
   "outputs": [],
   "source": [
    "pip install surprise"
   ]
  },
  {
   "cell_type": "code",
   "execution_count": null,
   "metadata": {
    "colab": {
     "base_uri": "https://localhost:8080/"
    },
    "id": "azh0NGGr2cIR",
    "outputId": "422a89fd-c1c6-4e76-a7c5-96ad763d1b5d"
   },
   "outputs": [],
   "source": [
    "import pandas as pd\n",
    "from surprise import Dataset, Reader, SVD\n",
    "from surprise.model_selection import train_test_split\n",
    "from surprise.accuracy import rmse\n",
    "\n",
    "# Load your data into a pandas DataFrame called 'amazon'\n",
    "amazon = pd.read_excel('cleaned_amazon_data.xlsx')  # Use pd.read_excel for Excel files\n",
    "\n",
    "# Replace '|' with an appropriate value (e.g., NaN or the average rating) or remove the rows containing it\n",
    "amazon['rating'] = pd.to_numeric(amazon['rating'], errors='coerce')\n",
    "amazon.dropna(subset=['rating'], inplace=True)\n",
    "\n",
    "# Prepare data for Surprise\n",
    "reader = Reader(rating_scale=(1, 5))\n",
    "data = Dataset.load_from_df(amazon[['user_id', 'product_id', 'rating']], reader)\n",
    "trainset, testset = train_test_split(data, test_size=0.2)\n",
    "\n",
    "# SVD model\n",
    "model = SVD()\n",
    "model.fit(trainset)\n",
    "\n",
    "# Evaluate model\n",
    "predictions = model.test(testset)\n",
    "print(\"RMSE:\", rmse(predictions))"
   ]
  },
  {
   "cell_type": "markdown",
   "metadata": {
    "id": "xxMszjqL2wBH"
   },
   "source": [
    "# Content-Based Filtering(using TF-IDF for product descriptions)"
   ]
  },
  {
   "cell_type": "code",
   "execution_count": null,
   "metadata": {
    "colab": {
     "base_uri": "https://localhost:8080/"
    },
    "id": "ZWn_H7XS7ZRb",
    "outputId": "734fcf16-895e-43e9-c775-d6c470d3b622"
   },
   "outputs": [],
   "source": [
    "import pandas as pd\n",
    "from sklearn.feature_extraction.text import TfidfVectorizer\n",
    "from sklearn.metrics.pairwise import cosine_similarity\n",
    "\n",
    "# Load your data into a pandas DataFrame called 'amazon_data'\n",
    "amazon_data = pd.read_excel('/content/cleaned_amazon_data.xlsx')  # Replace 'your_data.csv' with your actual file path\n",
    "\n",
    "# Compute TF-IDF matrix for product descriptions\n",
    "tfidf = TfidfVectorizer(stop_words='english')\n",
    "tfidf_matrix = tfidf.fit_transform(amazon_data['about_product'].fillna(''))\n",
    "\n",
    "def get_recommendations(product_name, top_n=5):\n",
    "    \"\"\"\n",
    "    Recommends similar products based on product description similarity.\n",
    "    \"\"\"\n",
    "    # Get the index of the product that matches the name\n",
    "    product_indices = amazon_data[amazon_data['product_name'].str.contains(product_name, case=False, regex=False)].index\n",
    "\n",
    "    # Check if any matching products were found\n",
    "    if len(product_indices) == 0:\n",
    "        print(f\"No products found matching '{product_name}'.\")\n",
    "        return []  # Return an empty list if no matches\n",
    "\n",
    "    # Get the similarity scores for the product\n",
    "    similarity_scores = cosine_similarity(tfidf_matrix[product_indices[0]], tfidf_matrix)\n",
    "\n",
    "    # Get the indices of the most similar products (excluding the product itself)\n",
    "    similar_product_indices = similarity_scores.argsort()[0][::-1][1:top_n + 1]\n",
    "\n",
    "    # Return the names of the most similar products\n",
    "    return amazon_data['product_name'].iloc[similar_product_indices]\n",
    "\n",
    "# Use a valid product name from your dataset\n",
    "product_name_to_search = \"Ambrane Unbreakable 60W / 3A Fast Charging 1.5m Braided Type C Cable for Smartphones, Tablets, Laptops & other Type C devices, PD Technology, 480Mbps Data Sync, Quick Charge 3.0 (RCT15A, Black)\"\n",
    "recommendations = get_recommendations(product_name_to_search)\n",
    "\n",
    "# Remove duplicates\n",
    "recommendations = recommendations.drop_duplicates()\n",
    "\n",
    "# Print the deduplicated recommendations\n",
    "print(recommendations)"
   ]
  },
  {
   "cell_type": "markdown",
   "metadata": {
    "id": "Gw5kJVC788Ex"
   },
   "source": [
    "# Evaluation\n"
   ]
  },
  {
   "cell_type": "code",
   "execution_count": null,
   "metadata": {
    "colab": {
     "base_uri": "https://localhost:8080/"
    },
    "id": "rSblH7nj9GWq",
    "outputId": "ec82a1f0-eb14-4524-efa1-8d4a84684b36"
   },
   "outputs": [],
   "source": [
    "!pip install scikit-surprise"
   ]
  },
  {
   "cell_type": "code",
   "execution_count": null,
   "metadata": {
    "colab": {
     "base_uri": "https://localhost:8080/"
    },
    "id": "8lbD2ejQ9H11",
    "outputId": "5913f4e7-85e5-4fc9-ede6-0dc878a0fd36"
   },
   "outputs": [],
   "source": [
    "!pip install scikit-surprise # Installs the scikit-surprise package which contains the 'surprise' module\n",
    "from surprise import accuracy # Imports the 'accuracy' module from the 'surprise' package\n",
    "\n",
    "# Calculate RMSE and precision/recall (as needed)\n",
    "rmse = accuracy.rmse(predictions) # Calculates the root mean squared error (RMSE) of the predictions"
   ]
  },
  {
   "cell_type": "code",
   "execution_count": null,
   "metadata": {
    "id": "aFZmb1C69690"
   },
   "outputs": [],
   "source": [
    "import pandas as pd\n",
    "from sklearn.feature_extraction.text import TfidfVectorizer\n",
    "from sklearn.metrics.pairwise import cosine_similarity\n",
    "\n",
    "# Load your data into a pandas DataFrame called 'amazon_data'\n",
    "amazon_data = pd.read_excel('/content/cleaned_amazon_data.xlsx')  # Replace 'your_data.csv' with your actual file path\n",
    "\n",
    "# Compute TF-IDF matrix for product descriptions\n",
    "tfidf = TfidfVectorizer(stop_words='english')\n",
    "tfidf_matrix = tfidf.fit_transform(amazon_data['about_product'].fillna(''))\n",
    "\n",
    "def get_recommendations(product_name, top_n=5):\n",
    "    \"\"\"\n",
    "    Recommends similar products based on product description similarity.\n",
    "    \"\"\"\n",
    "    # Get the index of the product that matches the name\n",
    "    product_indices = amazon_data[amazon_data['product_name'].str.contains(product_name, case=False, regex=False)].index\n",
    "\n",
    "    # Check if any matching products were found\n",
    "    if len(product_indices) == 0:\n",
    "        print(f\"No products found matching '{product_name}'.\")\n",
    "        return []  # Return an empty list if no matches\n",
    "\n",
    "    # Get the similarity scores for the product\n",
    "    similarity_scores = cosine_similarity(tfidf_matrix[product_indices[0]], tfidf_matrix)\n",
    "\n",
    "    # Get the indices of the most similar products (excluding the product itself)\n",
    "    similar_product_indices = similarity_scores.argsort()[0][::-1][1:top_n + 1]\n",
    "\n",
    "    # Return the names"
   ]
  },
  {
   "cell_type": "markdown",
   "metadata": {
    "id": "Abt4ojRb9Lt7"
   },
   "source": [
    "# Visualization\n"
   ]
  },
  {
   "cell_type": "code",
   "execution_count": null,
   "metadata": {
    "colab": {
     "base_uri": "https://localhost:8080/"
    },
    "id": "WlSpkEuZ9OQm",
    "outputId": "eac2d525-c4fc-47f1-95f2-18f6c37484d0"
   },
   "outputs": [],
   "source": [
    "from surprise import accuracy\n",
    "\n",
    "# Calculate RMSE and precision/recall (as needed)\n",
    "rmse = accuracy.rmse(predictions)\n"
   ]
  },
  {
   "cell_type": "markdown",
   "metadata": {
    "id": "FC3JEIS59Rer"
   },
   "source": [
    "# Reporting\n"
   ]
  },
  {
   "cell_type": "code",
   "execution_count": null,
   "metadata": {
    "id": "w-O2NoZT9VvO"
   },
   "outputs": [],
   "source": [
    "# Export final report data\n",
    "amazon_data.to_excel(\"Amazon_Project_Report.xlsx\", index=False)\n"
   ]
  }
 ],
 "metadata": {
  "colab": {
   "provenance": []
  },
  "kernelspec": {
   "display_name": "Python 3",
   "language": "python",
   "name": "python3"
  },
  "language_info": {
   "codemirror_mode": {
    "name": "ipython",
    "version": 3
   },
   "file_extension": ".py",
   "mimetype": "text/x-python",
   "name": "python",
   "nbconvert_exporter": "python",
   "pygments_lexer": "ipython3",
   "version": "3.11.5"
  }
 },
 "nbformat": 4,
 "nbformat_minor": 0
}
